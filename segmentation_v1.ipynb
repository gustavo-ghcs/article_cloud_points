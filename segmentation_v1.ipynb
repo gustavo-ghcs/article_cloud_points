{
 "cells": [
  {
   "cell_type": "code",
   "execution_count": 1,
   "metadata": {},
   "outputs": [
    {
     "name": "stdout",
     "output_type": "stream",
     "text": [
      "Jupyter environment detected. Enabling Open3D WebVisualizer.\n",
      "[Open3D INFO] WebRTC GUI backend enabled.\n",
      "[Open3D INFO] WebRTCWindowSystem: HTTP handshake server disabled.\n"
     ]
    }
   ],
   "source": [
    "import numpy as np\n",
    "import open3d as o3d\n",
    "import matplotlib.pyplot as plt "
   ]
  },
  {
   "cell_type": "code",
   "execution_count": 2,
   "metadata": {},
   "outputs": [
    {
     "data": {
      "text/plain": [
       "PointCloud with 26323780 points."
      ]
     },
     "execution_count": 2,
     "metadata": {},
     "output_type": "execute_result"
    }
   ],
   "source": [
    "DATANAME = \"sedeCRO.ply\"\n",
    "data_folder = \"cloud_points/\"\n",
    "pcd = o3d.io.read_point_cloud(data_folder + DATANAME)\n",
    "\n",
    "# Pre Processamento\n",
    "pcd_center = pcd.get_center() # Obtém o centro da nuvem de pontos\n",
    "pcd.translate(-pcd_center)\n",
    "#o3d.visualization.draw_geometries([pcd]) # Visualiza a nuvem de pontos completa"
   ]
  },
  {
   "cell_type": "code",
   "execution_count": 14,
   "metadata": {},
   "outputs": [
    {
     "name": "stdout",
     "output_type": "stream",
     "text": [
      "0.027370540267320165\n"
     ]
    }
   ],
   "source": [
    "# Variáveis\n",
    "retained_ratio = 0.2\n",
    "nn = 16\n",
    "std_multiplier = 10\n",
    "voxel_size = 0.05\n",
    "\n",
    "# 3.1. Sampling\n",
    "#%% 3.1. Random Sampling Test\n",
    "sampled_pcd = pcd.random_down_sample(retained_ratio)\n",
    "\n",
    "#%% 3.2. Statistical outlier filter \n",
    "filtered_pcd, filtered_idx = pcd.remove_statistical_outlier(nn, std_multiplier)\n",
    "\n",
    "#%% 3.3. Voxel downsampling\n",
    "pcd_downsampled = filtered_pcd.voxel_down_sample(voxel_size = voxel_size)\n",
    "\n",
    "#%% 3.4. Estimating normals\n",
    "nn_distance = np.mean(pcd.compute_nearest_neighbor_distance())\n",
    "print(nn_distance)\n",
    "#setting the radius search to compute normals\n",
    "\n",
    "radius_normals=nn_distance*4\n",
    "\n",
    "pcd_downsampled.estimate_normals(search_param=o3d.geometry.KDTreeSearchParamHybrid(radius=radius_normals, max_nn=16), fast_normal_computation=True)\n",
    "\n"
   ]
  },
  {
   "cell_type": "code",
   "execution_count": 15,
   "metadata": {},
   "outputs": [],
   "source": [
    "front = [ 0.41218726271625999, -0.88460766947872382, 0.21810761461695488 ]\n",
    "lookat = [ 1.0440935361781687, -0.24952285743042835, 0.26834577103162482 ]\n",
    "up = [ -0.082609051253653878, 0.20211729830728198, 0.9758710685208043 ]\n",
    "zoom = 0.69999999999999996\n",
    "\n",
    "pcd = pcd_downsampled # Atualiza a nuvem de pontos\n",
    "\n",
    "pt_to_plane_dist = 0.1 \n",
    "ransac_n = 3\n",
    "num_iterations = 1000\n",
    "\n",
    "\n",
    "max_plane_idx = 10\n",
    "nn_distance = np.mean(pcd.compute_nearest_neighbor_distance()) # Podemos colocar valores manuais\n",
    "pt_to_plane_dist = nn_distance + np.std(pcd.compute_nearest_neighbor_distance()) # Podemos colocar valores manuais"
   ]
  },
  {
   "cell_type": "code",
   "execution_count": 18,
   "metadata": {},
   "outputs": [
    {
     "name": "stdout",
     "output_type": "stream",
     "text": [
      "pass 0 / 10 done.\n",
      "pass 1 / 10 done.\n",
      "pass 2 / 10 done.\n",
      "pass 3 / 10 done.\n",
      "pass 4 / 10 done.\n",
      "pass 5 / 10 done.\n",
      "pass 6 / 10 done.\n",
      "pass 7 / 10 done.\n",
      "pass 8 / 10 done.\n",
      "pass 9 / 10 done.\n"
     ]
    }
   ],
   "source": [
    "#%% 8. DBSCAN\n",
    "segment_models = {}\n",
    "segments = {}\n",
    "\n",
    "rest = pcd\n",
    "\n",
    "principal_min_cluster_points = 20\n",
    "\n",
    "for i in range(max_plane_idx):\n",
    "    colors = plt.get_cmap(\"tab20\")(i)\n",
    "    segment_models[i], inliers = rest.segment_plane(distance_threshold=pt_to_plane_dist,ransac_n=ransac_n,num_iterations=num_iterations)\n",
    "    segments[i]=rest.select_by_index(inliers)\n",
    "    \n",
    "    labels = np.array(segments[i].cluster_dbscan(eps=pt_to_plane_dist*3, min_points=principal_min_cluster_points))\n",
    "    rest = rest.select_by_index(inliers, invert=True)+segments[i].select_by_index(list(np.where(labels!=0)[0]))\n",
    "    segments[i]=segments[i].select_by_index(list(np.where(labels==0)[0]))\n",
    "    segments[i].paint_uniform_color(list(colors[:3]))\n",
    "    print(\"pass\",i,\"/\",max_plane_idx,\"done.\")\n",
    "\n",
    "\n",
    "o3d.visualization.draw_geometries([segments[i] for i in range(max_plane_idx)],zoom=zoom, front=front, lookat=lookat,up=up)"
   ]
  },
  {
   "cell_type": "code",
   "execution_count": 23,
   "metadata": {},
   "outputs": [
    {
     "ename": "AttributeError",
     "evalue": "'numpy.ndarray' object has no attribute 'cluster_dbscan'",
     "output_type": "error",
     "traceback": [
      "\u001b[1;31m---------------------------------------------------------------------------\u001b[0m",
      "\u001b[1;31mAttributeError\u001b[0m                            Traceback (most recent call last)",
      "Cell \u001b[1;32mIn[23], line 7\u001b[0m\n\u001b[0;32m      3\u001b[0m rest_min_cluster_points \u001b[38;5;241m=\u001b[39m \u001b[38;5;241m6\u001b[39m\n\u001b[0;32m      5\u001b[0m rest_db \u001b[38;5;241m=\u001b[39m rest\n\u001b[1;32m----> 7\u001b[0m labels \u001b[38;5;241m=\u001b[39m np\u001b[38;5;241m.\u001b[39marray(\u001b[43mrest_db\u001b[49m\u001b[38;5;241;43m.\u001b[39;49m\u001b[43mcluster_dbscan\u001b[49m(eps\u001b[38;5;241m=\u001b[39mrest_epsilon, min_points\u001b[38;5;241m=\u001b[39mrest_min_cluster_points))\n\u001b[0;32m      8\u001b[0m max_label \u001b[38;5;241m=\u001b[39m labels\u001b[38;5;241m.\u001b[39mmax()\n\u001b[0;32m      9\u001b[0m \u001b[38;5;28mprint\u001b[39m(\u001b[38;5;124mf\u001b[39m\u001b[38;5;124m\"\u001b[39m\u001b[38;5;124mpoint cloud has \u001b[39m\u001b[38;5;132;01m{\u001b[39;00mmax_label\u001b[38;5;250m \u001b[39m\u001b[38;5;241m+\u001b[39m\u001b[38;5;250m \u001b[39m\u001b[38;5;241m1\u001b[39m\u001b[38;5;132;01m}\u001b[39;00m\u001b[38;5;124m clusters\u001b[39m\u001b[38;5;124m\"\u001b[39m)\n",
      "\u001b[1;31mAttributeError\u001b[0m: 'numpy.ndarray' object has no attribute 'cluster_dbscan'"
     ]
    }
   ],
   "source": [
    "#%%2 9. DBSCAN Rest\n",
    "rest_epsilon = 0.16\n",
    "rest_min_cluster_points = 6\n",
    "\n",
    "rest_db = rest\n",
    "\n",
    "labels = np.array(rest_db.cluster_dbscan(eps=rest_epsilon, min_points=rest_min_cluster_points))\n",
    "max_label = labels.max()\n",
    "print(f\"point cloud has {max_label + 1} clusters\")\n",
    "\n",
    "colors = plt.get_cmap(\"tab20\")(labels / (max_label if max_label > 0 else 1))\n",
    "colors[labels < 0] = 0\n",
    "rest_db.colors = o3d.utility.Vector3dVector(colors[:, :3])\n",
    "\n",
    "\n",
    "o3d.visualization.draw_geometries([rest],zoom=zoom, front=front, lookat=lookat,up=up) # Visualiza a nuvem de pontos restante com as cores dos clusters\n",
    "o3d.visualization.draw_geometries([segments[i] for i in range(max_plane_idx)]+[rest],zoom=zoom, front=front, lookat=lookat,up=up) # Visualiza todos os segmentos e a nuvem de pontos restante"
   ]
  },
  {
   "cell_type": "code",
   "execution_count": 20,
   "metadata": {},
   "outputs": [
    {
     "name": "stdout",
     "output_type": "stream",
     "text": [
      "0 PointCloud with 15892 points.\n",
      "1 PointCloud with 15067 points.\n",
      "2 PointCloud with 6827 points.\n",
      "3 PointCloud with 3460 points.\n",
      "4 PointCloud with 1840 points.\n",
      "5 PointCloud with 1601 points.\n",
      "6 PointCloud with 1138 points.\n",
      "7 PointCloud with 2043 points.\n",
      "8 PointCloud with 2259 points.\n",
      "9 PointCloud with 2125 points.\n"
     ]
    }
   ],
   "source": [
    "# Salvar nuvem de pontos\n",
    "xyz_segments=[]\n",
    "for idx in segments:\n",
    "    print(idx,segments[idx])\n",
    "    a = np.asarray(segments[idx].points)\n",
    "    N = len(a)\n",
    "    b = idx*np.ones((N,3+1))\n",
    "    b[:,:-1] = a\n",
    "    xyz_segments.append(b)\n",
    "\n",
    "rest_w_segments=np.hstack((np.asarray(rest.points),(labels+max_plane_idx).reshape(-1, 1)))\n",
    "xyz_segments.append(rest_w_segments)\n",
    "np.savetxt(\"RESULTS/\" + input(\"Qual o nome que será dado ao arquivo?\") + \".xyz\", np.concatenate(xyz_segments), delimiter=\";\", fmt=\"%1.9f\")"
   ]
  },
  {
   "cell_type": "code",
   "execution_count": 22,
   "metadata": {},
   "outputs": [
    {
     "ename": "AttributeError",
     "evalue": "'numpy.ndarray' object has no attribute 'points'",
     "output_type": "error",
     "traceback": [
      "\u001b[1;31m---------------------------------------------------------------------------\u001b[0m",
      "\u001b[1;31mAttributeError\u001b[0m                            Traceback (most recent call last)",
      "Cell \u001b[1;32mIn[22], line 20\u001b[0m\n\u001b[0;32m     18\u001b[0m k \u001b[38;5;241m=\u001b[39m \u001b[38;5;241m16\u001b[39m\n\u001b[0;32m     19\u001b[0m principal \u001b[38;5;241m=\u001b[39m np\u001b[38;5;241m.\u001b[39masarray(pcd\u001b[38;5;241m.\u001b[39mpoints)\n\u001b[1;32m---> 20\u001b[0m rest \u001b[38;5;241m=\u001b[39m np\u001b[38;5;241m.\u001b[39masarray(\u001b[43mrest\u001b[49m\u001b[38;5;241;43m.\u001b[39;49m\u001b[43mpoints\u001b[49m)\n\u001b[0;32m     21\u001b[0m distances_principal \u001b[38;5;241m=\u001b[39m calculate_k_distance(principal, k)\n\u001b[0;32m     22\u001b[0m discances_rest \u001b[38;5;241m=\u001b[39m calculate_k_distance(rest, k)\n",
      "\u001b[1;31mAttributeError\u001b[0m: 'numpy.ndarray' object has no attribute 'points'"
     ]
    }
   ],
   "source": [
    "# Calcular o Epsilon\n",
    "from sklearn.neighbors import NearestNeighbors\n",
    "\n",
    "def calculate_k_distance(X, k):\n",
    "    neigh = NearestNeighbors(n_neighbors=k)\n",
    "    nbrs = neigh.fit(X)\n",
    "    distances, indices = nbrs.kneighbors(X)\n",
    "    return sorted(distances[:, k-1], reverse=True)\n",
    "\n",
    "def plot_k_distance(distances, k):\n",
    "    plt.figure(figsize=(5, 5))\n",
    "    plt.plot(list(range(1, len(distances) + 1)), distances)\n",
    "    plt.xlabel('Points sorted by distance to kth nearest neighbor')\n",
    "    plt.ylabel(f'{k}th nearest neighbor distance')\n",
    "    plt.show()\n",
    "\n",
    "# Suponha que 'pcd' seja sua nuvem de pontos e 'k' o número de vizinhos que você deseja considerar\n",
    "k = 16\n",
    "principal = np.asarray(pcd.points)\n",
    "rest = np.asarray(rest.points)\n",
    "distances_principal = calculate_k_distance(principal, k)\n",
    "discances_rest = calculate_k_distance(rest, k)\n",
    "plot_k_distance(distances_principal, k)\n",
    "plot_k_distance(discances_rest, k)\n"
   ]
  },
  {
   "cell_type": "markdown",
   "metadata": {},
   "source": []
  }
 ],
 "metadata": {
  "kernelspec": {
   "display_name": "Python 3",
   "language": "python",
   "name": "python3"
  },
  "language_info": {
   "codemirror_mode": {
    "name": "ipython",
    "version": 3
   },
   "file_extension": ".py",
   "mimetype": "text/x-python",
   "name": "python",
   "nbconvert_exporter": "python",
   "pygments_lexer": "ipython3",
   "version": "3.11.9"
  }
 },
 "nbformat": 4,
 "nbformat_minor": 2
}
